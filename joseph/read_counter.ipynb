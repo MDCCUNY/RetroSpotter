{
 "cells": [
  {
   "cell_type": "code",
   "execution_count": 1,
   "metadata": {},
   "outputs": [],
   "source": [
    "import pysam"
   ]
  },
  {
   "cell_type": "code",
   "execution_count": 3,
   "metadata": {},
   "outputs": [],
   "source": [
    "def get_transcript_count(sam_file, transcript_name):\n",
    "\n",
    "    \"\"\"\n",
    "    Return the count of the transcript i.e how many of each of \\\n",
    "    the three transcripts are in there.\n",
    "    Note - Does not look at the quality of the alignment.\n",
    "    \"\"\"\n",
    "\n",
    "    sam_file_location = sam_file\n",
    "\n",
    "    samfile = pysam.AlignmentFile(sam_file_location, \"rb\")\n",
    "\n",
    "    count = 0\n",
    "\n",
    "    for read in samfile:\n",
    "\n",
    "        if read is not None and read.reference_name == transcript_name:\n",
    "\n",
    "            count = count + 1\n",
    "\n",
    "    return count"
   ]
  },
  {
   "cell_type": "code",
   "execution_count": 7,
   "metadata": {},
   "outputs": [
    {
     "ename": "AttributeError",
     "evalue": "'module' object has no attribute 'AlignmentFile'",
     "output_type": "error",
     "traceback": [
      "\u001b[0;31m---------------------------------------------------------------------------\u001b[0m",
      "\u001b[0;31mAttributeError\u001b[0m                            Traceback (most recent call last)",
      "\u001b[0;32m<ipython-input-7-44927e9f0694>\u001b[0m in \u001b[0;36m<module>\u001b[0;34m()\u001b[0m\n\u001b[0;32m----> 1\u001b[0;31m \u001b[0mget_transcript_count\u001b[0m\u001b[0;34m(\u001b[0m\u001b[0;34m'SRR1918637.sam'\u001b[0m\u001b[0;34m,\u001b[0m\u001b[0;36m1\u001b[0m\u001b[0;34m)\u001b[0m\u001b[0;34m\u001b[0m\u001b[0m\n\u001b[0m",
      "\u001b[0;32m<ipython-input-3-9513822cb19b>\u001b[0m in \u001b[0;36mget_transcript_count\u001b[0;34m(sam_file, transcript_name)\u001b[0m\n\u001b[1;32m      9\u001b[0m     \u001b[0msam_file_location\u001b[0m \u001b[0;34m=\u001b[0m \u001b[0msam_file\u001b[0m\u001b[0;34m\u001b[0m\u001b[0m\n\u001b[1;32m     10\u001b[0m \u001b[0;34m\u001b[0m\u001b[0m\n\u001b[0;32m---> 11\u001b[0;31m     \u001b[0msamfile\u001b[0m \u001b[0;34m=\u001b[0m \u001b[0mpysam\u001b[0m\u001b[0;34m.\u001b[0m\u001b[0mAlignmentFile\u001b[0m\u001b[0;34m(\u001b[0m\u001b[0msam_file_location\u001b[0m\u001b[0;34m,\u001b[0m \u001b[0;34m\"rb\"\u001b[0m\u001b[0;34m)\u001b[0m\u001b[0;34m\u001b[0m\u001b[0m\n\u001b[0m\u001b[1;32m     12\u001b[0m \u001b[0;34m\u001b[0m\u001b[0m\n\u001b[1;32m     13\u001b[0m     \u001b[0mcount\u001b[0m \u001b[0;34m=\u001b[0m \u001b[0;36m0\u001b[0m\u001b[0;34m\u001b[0m\u001b[0m\n",
      "\u001b[0;31mAttributeError\u001b[0m: 'module' object has no attribute 'AlignmentFile'"
     ]
    }
   ],
   "source": [
    "get_transcript_count('SRR1918637.sam',1)"
   ]
  },
  {
   "cell_type": "code",
   "execution_count": 8,
   "metadata": {},
   "outputs": [
    {
     "data": {
      "text/plain": [
       "['AlignedRead',\n",
       " 'Fastafile',\n",
       " 'IndexedReads',\n",
       " 'IteratorColumn',\n",
       " 'IteratorRow',\n",
       " 'Pileup',\n",
       " 'PileupColumn',\n",
       " 'PileupProxy',\n",
       " 'PileupRead',\n",
       " 'SAMTOOLS_DISPATCH',\n",
       " 'Samfile',\n",
       " 'SamtoolsDispatcher',\n",
       " 'SamtoolsError',\n",
       " 'Tabixfile',\n",
       " 'VCF',\n",
       " 'VCFRecord',\n",
       " '__all__',\n",
       " '__builtins__',\n",
       " '__doc__',\n",
       " '__file__',\n",
       " '__name__',\n",
       " '__package__',\n",
       " '__path__',\n",
       " '__samtools_version__',\n",
       " '__version__',\n",
       " 'asBed',\n",
       " 'asGTF',\n",
       " 'asTuple',\n",
       " 'asVCF',\n",
       " 'bam2fq',\n",
       " 'calmd',\n",
       " 'cat',\n",
       " 'cmd',\n",
       " 'csamtools',\n",
       " 'ctabix',\n",
       " 'cvcf',\n",
       " 'depth',\n",
       " 'faidx',\n",
       " 'fixmate',\n",
       " 'flagstat',\n",
       " 'idxstats',\n",
       " 'index',\n",
       " 'key',\n",
       " 'merge',\n",
       " 'mpileup',\n",
       " 'options',\n",
       " 'os',\n",
       " 'parser',\n",
       " 'phase',\n",
       " 'reheader',\n",
       " 'rmdup',\n",
       " 'samimport',\n",
       " 'sort',\n",
       " 'sys',\n",
       " 'tabix_compress',\n",
       " 'tabix_index',\n",
       " 'targetcut',\n",
       " 'tview',\n",
       " 'version',\n",
       " 'view']"
      ]
     },
     "execution_count": 8,
     "metadata": {},
     "output_type": "execute_result"
    }
   ],
   "source": [
    "dir(pysam)"
   ]
  },
  {
   "cell_type": "code",
   "execution_count": null,
   "metadata": {},
   "outputs": [],
   "source": []
  }
 ],
 "metadata": {
  "kernelspec": {
   "display_name": "Python 2",
   "language": "python",
   "name": "python2"
  },
  "language_info": {
   "codemirror_mode": {
    "name": "ipython",
    "version": 2
   },
   "file_extension": ".py",
   "mimetype": "text/x-python",
   "name": "python",
   "nbconvert_exporter": "python",
   "pygments_lexer": "ipython2",
   "version": "2.7.14"
  }
 },
 "nbformat": 4,
 "nbformat_minor": 2
}
