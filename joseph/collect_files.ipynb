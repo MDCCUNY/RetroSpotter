{
 "cells": [
  {
   "cell_type": "code",
   "execution_count": 1,
   "metadata": {},
   "outputs": [],
   "source": [
    "from Bio import Entrez"
   ]
  },
  {
   "cell_type": "code",
   "execution_count": 3,
   "metadata": {},
   "outputs": [],
   "source": [
    "Entrez.email = 'halsteadjs@nih.gov'"
   ]
  },
  {
   "cell_type": "code",
   "execution_count": 70,
   "metadata": {},
   "outputs": [],
   "source": [
    "handle = Entrez.efetch(db='nucleotide', id='568815582',seq_start=1240677,seq_stop=1242554, rettype=\"fasta\",  retmode=\"text\")"
   ]
  },
  {
   "cell_type": "code",
   "execution_count": null,
   "metadata": {},
   "outputs": [],
   "source": [
    "def get_fasta_from_gene_name(email)"
   ]
  },
  {
   "cell_type": "code",
   "execution_count": 71,
   "metadata": {},
   "outputs": [
    {
     "name": "stdout",
     "output_type": "stream",
     "text": [
      ">NC_000016.10:1240677-1242554 Homo sapiens chromosome 16, GRCh38.p12 Primary Assembly\n",
      "ATAAATGGGGAGGGGAGAGCCCACTGGGTAGAAGGAACAGGGAGCGGCCAGGGTAAGTCCCCACTCTCAG\n",
      "AGACCCTGACATCAGCGTCACCTGGAGCAGAGTGGCCCAGCCTCAGACTCAGAGCACCAAGACCCAGGCC\n",
      "CGCAGGCCTGGACCCACCCCGGTCCCCCCGTCCCAGCTCCATTCTTCACCCCACAATCTGTAGCCCCCAG\n",
      "CCCTGCCCTGTGAGGCCCGGCCAGGCCCACGATGCTCCTCCTTGCTCCCCAGATGCTGAATCTGCTGCTG\n",
      "CTGGCGCTGCCCGTCCTGGCGAGCCGCGCCTACGCGGCCCCTGGTGAGTCCCAGCCGGGGTCCACCCTGC\n",
      "CCCTCACCACATTCCACAGGTCAGGGCCTGGGTGGGTTCTGGGGAGGTCGGGCTGGCCCCCACACAGGGA\n",
      "AGGGCTGGGCCCAGGCCTGGGGCTGCTTCCTGGTCCTGACCTGGCACCTGCCCCAGCCCCAGGCCAGGCC\n",
      "CTGCAGCGAGTGGGCATCGTCGGGGGTCAGGAGGCCCCCAGGAGCAAGTGGCCCTGGCAGGTGAGCCTGA\n",
      "GAGTCCACGGCCCATACTGGATGCACTTCTGCGGGGGCTCCCTCATCCACCCCCAGTGGGTGCTGACCGC\n",
      "AGCGCACTGCGTGGGACCGTGAGTCTCCCGGGGCCTGGAGGGGTGGGGAAGGGCTGGATGTGAGCCCTGG\n",
      "CTCCCGGGTGCTCCTGGGGGCTGCCCAGGGCCCTGAGTGGGATCCTCCGCTGCCCAGGGACGTCAAGGAT\n",
      "CTGGCCGCCCTCAGGGTGCAACTGCGGGAGCAGCACCTCTACTACCAGGACCAGCTGCTGCCGGTCAGCA\n",
      "GGATCATCGTGCACCCACAGTTCTACACCGCCCAGATCGGAGCGGACATCGCCCTGCTGGAGCTGGAGGA\n",
      "GCCGGTGAACGTCTCCAGCCACGTCCACACGGTCACCCTGCCCCCTGCCTCAGAGACCTTCCCCCCGGGG\n",
      "ATGCCGTGCTGGGTCACTGGCTGGGGCGATGTGGACAATGATGGTGGGTCTGGGGACAGTGGAGGTGGGG\n",
      "CCAGGGTCTTAGCCACAGCCCAGCCCCTGGGCTCCCTCTGGGCTCCAGGTGGGGGTTGCCCGGCCCCCTC\n",
      "CTGAGGCTGCACCCTCTTCCCCACCTGCAGAGCGCCTCCCACCGCCATTTCCTCTGAAGCAGGTGAAGGT\n",
      "CCCCATAATGGAAAACCACATTTGTGACGCAAAATACCACCTTGGCGCCTACACGGGAGACGACGTCCGC\n",
      "ATCGTCCGTGACGACATGCTGTGTGCCGGGAACACCCGGAGGGACTCATGCCAGGTGGGCCCCGCCTGTC\n",
      "CCCCGCCCCCCGCCCCCCAACCCCCACTCCCAGGCCTGTTCGGCGAGCGCTGACCTCTGACCTTCCCAGG\n",
      "GCGACTCCGGAGGGCCCCTGGTGTGCAAGGTGAATGGCACCTGGCTGCAGGCGGGCGTGGTCAGCTGGGG\n",
      "CGAGGGCTGTGCCCAGCCCAACCGGCCTGGCATCTACACCCGTGTCACCTACTACTTGGACTGGATCCAC\n",
      "CACTATGTCCCCAAAAAGCCGTGAGTCAGGCCTGGGTTGGCCACCTGGGTCACTGGAGGACCAACCCCTG\n",
      "CTGTCCAAAACACCACTGCTTCCTACCCAGGTGGCGACTGCCCCCCACACCTTCCCTGCCCCGTCCTGAG\n",
      "TGCCCCTTCCTGTCCTAAGCCCCCTGCTCTCTTCTGAGCCCCTTCCCCTGTCCTGAGGACCCTTCCCTAT\n",
      "CCTGAGCCCCCTTCCCTGTCCTAAGCCTGACGCCTGCACCGGGCCCTCCAGCCCTCCCCTGCCCAGATAG\n",
      "CTGGTGGTGGGCGCTAATCCTCCTGAGTGCTGGACCTCATTAAAGTGCATGGAAATCA\n",
      "\n",
      "\n"
     ]
    }
   ],
   "source": [
    "print(handle.read())"
   ]
  },
  {
   "cell_type": "code",
   "execution_count": null,
   "metadata": {},
   "outputs": [],
   "source": [
    "handle.close()"
   ]
  },
  {
   "cell_type": "code",
   "execution_count": null,
   "metadata": {},
   "outputs": [],
   "source": [
    "record"
   ]
  },
  {
   "cell_type": "code",
   "execution_count": null,
   "metadata": {},
   "outputs": [],
   "source": []
  }
 ],
 "metadata": {
  "kernelspec": {
   "display_name": "Python 3",
   "language": "python",
   "name": "python3"
  },
  "language_info": {
   "codemirror_mode": {
    "name": "ipython",
    "version": 3
   },
   "file_extension": ".py",
   "mimetype": "text/x-python",
   "name": "python",
   "nbconvert_exporter": "python",
   "pygments_lexer": "ipython3",
   "version": "3.6.5"
  }
 },
 "nbformat": 4,
 "nbformat_minor": 2
}
