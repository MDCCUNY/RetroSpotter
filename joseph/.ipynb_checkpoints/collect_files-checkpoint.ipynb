{
 "cells": [
  {
   "cell_type": "code",
   "execution_count": 1,
   "metadata": {},
   "outputs": [],
   "source": [
    "from Bio import Entrez\n",
    "from Bio import SeqIO"
   ]
  },
  {
   "cell_type": "code",
   "execution_count": 2,
   "metadata": {},
   "outputs": [],
   "source": [
    "def get_fasta_from_gene_name(gene_name, email):\n",
    "    \n",
    "    \"\"\"\n",
    "    Given a gene name e.g. TPSAB1 get the fasta of the genomic location.\n",
    "    \n",
    "    \"\"\"    \n",
    "    Entrez.email = email\n",
    "    \n",
    "    handle = Entrez.esearch(db='nucleotide', term='{gene_name}[Gene]'.format(gene_name=gene_name))\n",
    "    \n",
    "    record = Entrez.read(handle)\n",
    "    \n",
    "    handle.close()\n",
    "    \n",
    "    handle = Entrez.esearch(db='gene', term='TPSAB1[Gene]')\n",
    "    \n",
    "    record = Entrez.read(handle)\n",
    "    \n",
    "    handle.close()\n",
    "    \n",
    "    gene_id = record['IdList'][0]\n",
    "        \n",
    "    handle = Entrez.esummary(db='gene', id=gene_id)\n",
    "    \n",
    "    record = Entrez.read(handle)\n",
    "    \n",
    "    handle.close()\n",
    "    \n",
    "    chromosome = record['DocumentSummarySet']['DocumentSummary'][0]['GenomicInfo'][0]['ChrAccVer']\n",
    "    start = record['DocumentSummarySet']['DocumentSummary'][0]['GenomicInfo'][0]['ChrStart']\n",
    "    end = record['DocumentSummarySet']['DocumentSummary'][0]['GenomicInfo'][0]['ChrStop']\n",
    "    \n",
    "    handle = Entrez.esearch(db='nucleotide', term=chromosome)\n",
    "                            \n",
    "    record = Entrez.read(handle)\n",
    "    \n",
    "    handle.close()\n",
    "    \n",
    "    chr_id = record['IdList'][0]\n",
    "    \n",
    "    handle = Entrez.efetch(db='nucleotide', id=chr_id, seq_start=start,seq_stop=end, rettype='fasta', retmode='text')\n",
    "    \n",
    "    my_fasta = SeqIO.read(handle, \"fasta\")\n",
    "    \n",
    "    handle.close()\n",
    "\n",
    "    return my_fasta\n",
    "    "
   ]
  },
  {
   "cell_type": "code",
   "execution_count": 3,
   "metadata": {},
   "outputs": [
    {
     "data": {
      "text/plain": [
       "1"
      ]
     },
     "execution_count": 3,
     "metadata": {},
     "output_type": "execute_result"
    }
   ],
   "source": [
    "fasta = get_fasta_from_gene_name('TPSAB1', 'halsteadjs@nih.gov')\n",
    "\n",
    "\n",
    "SeqIO.write(fasta, \"test.fasta\", \"fasta\")"
   ]
  },
  {
   "cell_type": "code",
   "execution_count": null,
   "metadata": {},
   "outputs": [],
   "source": []
  },
  {
   "cell_type": "code",
   "execution_count": null,
   "metadata": {},
   "outputs": [],
   "source": []
  },
  {
   "cell_type": "code",
   "execution_count": null,
   "metadata": {},
   "outputs": [],
   "source": []
  }
 ],
 "metadata": {
  "kernelspec": {
   "display_name": "Python 3",
   "language": "python",
   "name": "python3"
  },
  "language_info": {
   "codemirror_mode": {
    "name": "ipython",
    "version": 3
   },
   "file_extension": ".py",
   "mimetype": "text/x-python",
   "name": "python",
   "nbconvert_exporter": "python",
   "pygments_lexer": "ipython3",
   "version": "3.5.5"
  }
 },
 "nbformat": 4,
 "nbformat_minor": 2
}
