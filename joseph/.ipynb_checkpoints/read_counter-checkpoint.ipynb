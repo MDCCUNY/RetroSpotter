{
 "cells": [
  {
   "cell_type": "code",
   "execution_count": 52,
   "metadata": {},
   "outputs": [],
   "source": [
    "import pysam\n",
    "import csv\n",
    "from pyfaidx import Fasta\n",
    "import pandas as pd"
   ]
  },
  {
   "cell_type": "code",
   "execution_count": 63,
   "metadata": {},
   "outputs": [],
   "source": [
    "# A script that takes a list of positions relative to a reference sequence.\n",
    "# The script then looks at the pileup at each of these positions.\n",
    "# Input is a sorted bam file\n",
    "# Output is a dataframe"
   ]
  },
  {
   "cell_type": "code",
   "execution_count": 53,
   "metadata": {},
   "outputs": [],
   "source": [
    "sam_file_location = 'SRR1918637.sorted.bam'\n",
    "transcript = '1'\n",
    "snp_file = 'snp_pos_list.csv'\n",
    "ref_sequence = '../test_sequences/TPSAB1.fasta'\n",
    "ref_name = 'NC_000016.10:1240677-1242554'"
   ]
  },
  {
   "cell_type": "code",
   "execution_count": 54,
   "metadata": {},
   "outputs": [],
   "source": [
    "def get_bases_at_pos(df, transcript, sam_file_location):\n",
    "    \"\"\"\n",
    "    For a given position in the reference what are the bases in the reads which align at \\\n",
    "    that position.\n",
    "    \n",
    "    \"\"\"\n",
    "    \n",
    "    samfile = pysam.AlignmentFile(sam_file_location, \"rb\")\n",
    "    \n",
    "    iter = samfile.pileup(contig=transcript)\n",
    "    \n",
    "    pos = df['position']\n",
    "    \n",
    "    for column in iter:\n",
    "                \n",
    "        if column.reference_pos == pos:\n",
    "            \n",
    "            base_list = []\n",
    "              \n",
    "            for read in column.pileups:\n",
    "\n",
    "                if read.is_del == 0:\n",
    "\n",
    "                    base_list.append(read.alignment.query_sequence[read.query_position])\n",
    "\n",
    "                else:\n",
    "\n",
    "                    base_list.append('_')\n",
    "                    \n",
    "            return ''.join(base_list)"
   ]
  },
  {
   "cell_type": "code",
   "execution_count": 55,
   "metadata": {},
   "outputs": [],
   "source": [
    "df = pd.read_csv(snp_file)\n",
    "            \n",
    "df['pileup'] = df.apply(get_bases_at_pos, axis=1, args=[transcript,sam_file_location])"
   ]
  },
  {
   "cell_type": "code",
   "execution_count": 56,
   "metadata": {},
   "outputs": [
    {
     "data": {
      "text/html": [
       "<div>\n",
       "<style scoped>\n",
       "    .dataframe tbody tr th:only-of-type {\n",
       "        vertical-align: middle;\n",
       "    }\n",
       "\n",
       "    .dataframe tbody tr th {\n",
       "        vertical-align: top;\n",
       "    }\n",
       "\n",
       "    .dataframe thead th {\n",
       "        text-align: right;\n",
       "    }\n",
       "</style>\n",
       "<table border=\"1\" class=\"dataframe\">\n",
       "  <thead>\n",
       "    <tr style=\"text-align: right;\">\n",
       "      <th></th>\n",
       "      <th>position</th>\n",
       "    </tr>\n",
       "  </thead>\n",
       "  <tbody>\n",
       "    <tr>\n",
       "      <th>0</th>\n",
       "      <td>81</td>\n",
       "    </tr>\n",
       "    <tr>\n",
       "      <th>1</th>\n",
       "      <td>82</td>\n",
       "    </tr>\n",
       "    <tr>\n",
       "      <th>2</th>\n",
       "      <td>83</td>\n",
       "    </tr>\n",
       "    <tr>\n",
       "      <th>3</th>\n",
       "      <td>84</td>\n",
       "    </tr>\n",
       "    <tr>\n",
       "      <th>4</th>\n",
       "      <td>85</td>\n",
       "    </tr>\n",
       "  </tbody>\n",
       "</table>\n",
       "</div>"
      ],
      "text/plain": [
       "   position\n",
       "0        81\n",
       "1        82\n",
       "2        83\n",
       "3        84\n",
       "4        85"
      ]
     },
     "execution_count": 56,
     "metadata": {},
     "output_type": "execute_result"
    }
   ],
   "source": [
    "get_multiple_pileups('snp_pos_list.csv', 'SRR1918637.sorted.bam', '1')"
   ]
  },
  {
   "cell_type": "code",
   "execution_count": 58,
   "metadata": {},
   "outputs": [],
   "source": [
    "def get_percent_ref(df, reference, ref_name):\n",
    "    \n",
    "    pileup_list = list(df['pileup'])\n",
    "    \n",
    "    base_position = df['position']\n",
    "    \n",
    "    ref_fasta = Fasta(reference)\n",
    "    \n",
    "    reference_base = ref_fasta[ref_name][base_position].seq\n",
    "    \n",
    "    ref_count = 0\n",
    "    \n",
    "    for base in pileup_list:\n",
    "        \n",
    "        if base == reference_base:\n",
    "            \n",
    "            ref_count = ref_count +1\n",
    "            \n",
    "    return (ref_count / len(pileup_list)) *100"
   ]
  },
  {
   "cell_type": "code",
   "execution_count": 64,
   "metadata": {},
   "outputs": [],
   "source": [
    "df['pct_ref'] = df.apply(get_percent_ref, axis=1, args=[ref_sequence,ref_name])"
   ]
  },
  {
   "cell_type": "code",
   "execution_count": 65,
   "metadata": {},
   "outputs": [
    {
     "data": {
      "text/html": [
       "<div>\n",
       "<style scoped>\n",
       "    .dataframe tbody tr th:only-of-type {\n",
       "        vertical-align: middle;\n",
       "    }\n",
       "\n",
       "    .dataframe tbody tr th {\n",
       "        vertical-align: top;\n",
       "    }\n",
       "\n",
       "    .dataframe thead th {\n",
       "        text-align: right;\n",
       "    }\n",
       "</style>\n",
       "<table border=\"1\" class=\"dataframe\">\n",
       "  <thead>\n",
       "    <tr style=\"text-align: right;\">\n",
       "      <th></th>\n",
       "      <th>position</th>\n",
       "      <th>pileup</th>\n",
       "      <th>pct_ref</th>\n",
       "    </tr>\n",
       "  </thead>\n",
       "  <tbody>\n",
       "    <tr>\n",
       "      <th>0</th>\n",
       "      <td>81</td>\n",
       "      <td>TTTTTTTTTTTTTTTTTTTTTTTTTTTT</td>\n",
       "      <td>100.000000</td>\n",
       "    </tr>\n",
       "    <tr>\n",
       "      <th>1</th>\n",
       "      <td>82</td>\n",
       "      <td>CCCCCCCCCCCCCCCCCCCCCCCCCCCC</td>\n",
       "      <td>100.000000</td>\n",
       "    </tr>\n",
       "    <tr>\n",
       "      <th>2</th>\n",
       "      <td>83</td>\n",
       "      <td>AAAAAAAAAAAAAAAAAAAAAAAAAAAA</td>\n",
       "      <td>100.000000</td>\n",
       "    </tr>\n",
       "    <tr>\n",
       "      <th>3</th>\n",
       "      <td>84</td>\n",
       "      <td>GGGGGGGGGGGGGGGGGGGGGGGGGGGG</td>\n",
       "      <td>100.000000</td>\n",
       "    </tr>\n",
       "    <tr>\n",
       "      <th>4</th>\n",
       "      <td>85</td>\n",
       "      <td>CCCCCCCTTCTCCTCCCTTTTTTTTTTT</td>\n",
       "      <td>46.428571</td>\n",
       "    </tr>\n",
       "  </tbody>\n",
       "</table>\n",
       "</div>"
      ],
      "text/plain": [
       "   position                        pileup     pct_ref\n",
       "0        81  TTTTTTTTTTTTTTTTTTTTTTTTTTTT  100.000000\n",
       "1        82  CCCCCCCCCCCCCCCCCCCCCCCCCCCC  100.000000\n",
       "2        83  AAAAAAAAAAAAAAAAAAAAAAAAAAAA  100.000000\n",
       "3        84  GGGGGGGGGGGGGGGGGGGGGGGGGGGG  100.000000\n",
       "4        85  CCCCCCCTTCTCCTCCCTTTTTTTTTTT   46.428571"
      ]
     },
     "execution_count": 65,
     "metadata": {},
     "output_type": "execute_result"
    }
   ],
   "source": [
    "df.head()"
   ]
  },
  {
   "cell_type": "code",
   "execution_count": null,
   "metadata": {},
   "outputs": [],
   "source": []
  }
 ],
 "metadata": {
  "kernelspec": {
   "display_name": "Python 3",
   "language": "python",
   "name": "python3"
  },
  "language_info": {
   "codemirror_mode": {
    "name": "ipython",
    "version": 3
   },
   "file_extension": ".py",
   "mimetype": "text/x-python",
   "name": "python",
   "nbconvert_exporter": "python",
   "pygments_lexer": "ipython3",
   "version": "3.6.5"
  }
 },
 "nbformat": 4,
 "nbformat_minor": 2
}
